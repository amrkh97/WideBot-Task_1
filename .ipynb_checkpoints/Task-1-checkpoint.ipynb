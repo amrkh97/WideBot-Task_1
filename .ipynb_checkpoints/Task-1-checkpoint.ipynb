{
 "cells": [
  {
   "cell_type": "markdown",
   "metadata": {},
   "source": [
    "# Widebot \n",
    "## Task 1 - Getting to Philosophy"
   ]
  },
  {
   "cell_type": "markdown",
   "metadata": {},
   "source": [
    "Task 1 - Getting to Philosophy\n",
    "\n",
    "Please write a Python script to check the \"Getting to Philosophy\" law.\n",
    "https://en.wikipedia.org/wiki/Wikipedia:Getting_to_Philosophy\n",
    "\n",
    "Clicking on the first link in the main body of a Wikipedia article and repeating the process for subsequent articles would usually lead to the article Philosophy.\n",
    "\n",
    "The program should receive a Wikipedia link as an input, go to another normal link and repeat this process until either Philosophy page is reached, or we are in an article without any outgoing Wikilinks, or stuck in a loop.\n",
    "\n",
    "A \"normal link\" is a link from the main page article, not in a box, is blue (red is for non-existing articles), not in parentheses, not italic and not a footnote. You don't have to check style tables or other fancy things, it is enough that the script works with the current Wikipedia style (for example you can use 'class' attribute in Wikipedia tags). For easy validation, please print all visited links to the standard output.\n",
    "\n",
    "Use a 0.5 second timeout between queries to avoid heavy load on Wikipedia (sleep function from time module).\n",
    "\n",
    "You can use https://en.wikipedia.org/wiki/Special:Random to check this hypothesis at home.\n"
   ]
  },
  {
   "cell_type": "code",
   "execution_count": 1,
   "metadata": {},
   "outputs": [],
   "source": [
    "import urllib\n",
    "import time\n",
    "import sys\n",
    "import requests"
   ]
  },
  {
   "cell_type": "code",
   "execution_count": 2,
   "metadata": {},
   "outputs": [],
   "source": [
    "startUrl = \"https://en.wikipedia.org/wiki/Special:Random\"\n",
    "targetUrl = \"https://en.wikipedia.org/wiki/Philosophy\"\n",
    "visitedUrls = [startUrl,]"
   ]
  },
  {
   "cell_type": "code",
   "execution_count": 3,
   "metadata": {},
   "outputs": [],
   "source": [
    "def stopping_conditions(url_history, target_url):\n",
    "    \n",
    "    if url_history[-1] == target_url:\n",
    "        print(\"Philosphy article reached!\")\n",
    "        return False\n",
    "    \n",
    "    elif url_history[-1] in url_history[:-1]:\n",
    "        print(\"Stuck in a loop, the same website was visited before.\")\n",
    "        return False\n",
    "    else:\n",
    "        return True"
   ]
  },
  {
   "cell_type": "code",
   "execution_count": null,
   "metadata": {},
   "outputs": [],
   "source": [
    "def getFirstLink():\n",
    "    pass"
   ]
  },
  {
   "cell_type": "code",
   "execution_count": null,
   "metadata": {},
   "outputs": [],
   "source": []
  }
 ],
 "metadata": {
  "kernelspec": {
   "display_name": "Python 3",
   "language": "python",
   "name": "python3"
  },
  "language_info": {
   "codemirror_mode": {
    "name": "ipython",
    "version": 3
   },
   "file_extension": ".py",
   "mimetype": "text/x-python",
   "name": "python",
   "nbconvert_exporter": "python",
   "pygments_lexer": "ipython3",
   "version": "3.7.6"
  }
 },
 "nbformat": 4,
 "nbformat_minor": 4
}
