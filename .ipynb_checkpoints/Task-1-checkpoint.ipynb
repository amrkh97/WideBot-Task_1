{
 "cells": [
  {
   "cell_type": "markdown",
   "metadata": {},
   "source": [
    "#### Name: Amr Khaled Zaky\n",
    "#### Mail: amrkh97@gmail.com"
   ]
  },
  {
   "cell_type": "markdown",
   "metadata": {},
   "source": [
    "# Widebot \n",
    "## Task 1 - Getting to Philosophy"
   ]
  },
  {
   "cell_type": "markdown",
   "metadata": {},
   "source": [
    "Task 1 - Getting to Philosophy\n",
    "\n",
    "Please write a Python script to check the \"Getting to Philosophy\" law.\n",
    "https://en.wikipedia.org/wiki/Wikipedia:Getting_to_Philosophy\n",
    "\n",
    "Clicking on the first link in the main body of a Wikipedia article and repeating the process for subsequent articles would usually lead to the article Philosophy.\n",
    "\n",
    "The program should receive a Wikipedia link as an input, go to another normal link and repeat this process until either Philosophy page is reached, or we are in an article without any outgoing Wikilinks, or stuck in a loop.\n",
    "\n",
    "A \"normal link\" is a link from the main page article, not in a box, is blue (red is for non-existing articles), not in parentheses, not italic and not a footnote. You don't have to check style tables or other fancy things, it is enough that the script works with the current Wikipedia style (for example you can use 'class' attribute in Wikipedia tags). For easy validation, please print all visited links to the standard output.\n",
    "\n",
    "Use a 0.5 second timeout between queries to avoid heavy load on Wikipedia (sleep function from time module).\n",
    "\n",
    "You can use https://en.wikipedia.org/wiki/Special:Random to check this hypothesis at home.\n"
   ]
  },
  {
   "cell_type": "code",
   "execution_count": 1,
   "metadata": {},
   "outputs": [],
   "source": [
    "# !pip install beautifulsoup4\n",
    "import time\n",
    "import sys\n",
    "import requests\n",
    "import urllib\n",
    "from bs4 import BeautifulSoup"
   ]
  },
  {
   "cell_type": "code",
   "execution_count": 2,
   "metadata": {},
   "outputs": [],
   "source": [
    "startUrl = \"https://en.wikipedia.org/wiki/Special:Random\"\n",
    "targetUrl = \"https://en.wikipedia.org/wiki/Philosophy\"\n",
    "visitedUrls = [startUrl,]"
   ]
  },
  {
   "cell_type": "code",
   "execution_count": 3,
   "metadata": {},
   "outputs": [],
   "source": [
    "def stopping_conditions(url_history, target_url):\n",
    "    \n",
    "    if url_history[-1] == target_url:\n",
    "        print(\"Philosphy article reached!\")\n",
    "        return False\n",
    "    \n",
    "    elif url_history[-1] in url_history[:-1]:\n",
    "        print(\"Stuck in a loop, the same website was visited before.\")\n",
    "        return False\n",
    "    else:\n",
    "        return True"
   ]
  },
  {
   "cell_type": "code",
   "execution_count": 4,
   "metadata": {},
   "outputs": [],
   "source": [
    "def getFirstLink(url):\n",
    "    responseHTML = requests.get(url).text\n",
    "    beautifiedHTML = BeautifulSoup(responseHTML, \"html.parser\")\n",
    "\n",
    "    article_link = None\n",
    "\n",
    "    content_div = beautifiedHTML.find(id=\"mw-content-text\").find(class_=\"mw-parser-output\")\n",
    "    for element in content_div.find_all(\"p\", recursive=False):\n",
    "        if element.find(\"a\", recursive=False):\n",
    "            article_link = element.find(\"a\", recursive=False).get('href')\n",
    "            break\n",
    "                     \n",
    "    if not article_link:\n",
    "        return\n",
    "\n",
    "    # Build a full url \n",
    "    firstFoundLink = urllib.parse.urljoin('https://en.wikipedia.org/', article_link)\n",
    "\n",
    "    return firstFoundLink"
   ]
  },
  {
   "cell_type": "code",
   "execution_count": 5,
   "metadata": {},
   "outputs": [
    {
     "name": "stdout",
     "output_type": "stream",
     "text": [
      "https://en.wikipedia.org/wiki/Special:Random\n",
      "https://en.wikipedia.org/wiki/Baptist\n",
      "https://en.wikipedia.org/wiki/Protestantism\n",
      "https://en.wikipedia.org/wiki/List_of_Christian_denominations_by_number_of_members\n",
      "https://en.wikipedia.org/wiki/Christian_denomination\n",
      "https://en.wikipedia.org/wiki/Religion\n",
      "https://en.wikipedia.org/wiki/Cultural_system\n",
      "https://en.wikipedia.org/wiki/Culture\n",
      "https://en.wikipedia.org/wiki/Social_behavior\n",
      "https://en.wikipedia.org/wiki/Behavior\n",
      "https://en.wikipedia.org/wiki/American_English\n",
      "https://en.wikipedia.org/wiki/Variety_(linguistics)\n",
      "https://en.wikipedia.org/wiki/Sociolinguistics\n",
      "https://en.wikipedia.org/wiki/Society\n",
      "https://en.wikipedia.org/wiki/Social_group\n",
      "https://en.wikipedia.org/wiki/Social_science\n",
      "https://en.wikipedia.org/wiki/Branches_of_science\n",
      "https://en.wikipedia.org/wiki/Empirical\n",
      "https://en.wikipedia.org/wiki/Information\n",
      "https://en.wikipedia.org/wiki/Uncertainty\n",
      "https://en.wikipedia.org/wiki/Epistemic\n",
      "https://en.wikipedia.org/wiki/Greek_language\n",
      "No article links found at https://en.wikipedia.org/wiki/Greek_language\n"
     ]
    }
   ],
   "source": [
    "while stopping_conditions(visitedUrls, targetUrl):\n",
    "    \n",
    "    print(visitedUrls[-1])\n",
    "\n",
    "    firstLink = getFirstLink(visitedUrls[-1])\n",
    "    \n",
    "    if not firstLink:\n",
    "        print(\"No article links found at {}\".format(visitedUrls[-1]))\n",
    "        break\n",
    "\n",
    "    visitedUrls.append(firstLink)\n",
    "\n",
    "    time.sleep(0.5)\n",
    "visitedUrls = [startUrl,]"
   ]
  }
 ],
 "metadata": {
  "kernelspec": {
   "display_name": "Python 3",
   "language": "python",
   "name": "python3"
  },
  "language_info": {
   "codemirror_mode": {
    "name": "ipython",
    "version": 3
   },
   "file_extension": ".py",
   "mimetype": "text/x-python",
   "name": "python",
   "nbconvert_exporter": "python",
   "pygments_lexer": "ipython3",
   "version": "3.7.6"
  }
 },
 "nbformat": 4,
 "nbformat_minor": 4
}
